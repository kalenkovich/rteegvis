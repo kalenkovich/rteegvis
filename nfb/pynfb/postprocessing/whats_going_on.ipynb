{
 "cells": [
  {
   "cell_type": "code",
   "execution_count": 2,
   "metadata": {
    "collapsed": true
   },
   "outputs": [],
   "source": [
    "import numpy as np\n",
    "import pylab as plt\n",
    "import h5py\n",
    "%matplotlib qt"
   ]
  },
  {
   "cell_type": "code",
   "execution_count": 18,
   "metadata": {
    "collapsed": false
   },
   "outputs": [],
   "source": [
    "from json import loads\n",
    "#settings_file = 'D:\\\\vnd_spbu\\\\pilot\\\\mu5days\\\\vnd_spbu_5days.json'\n",
    "#settings_file = 'D:\\\\vnd_spbu\\\\mock\\\\vnd_spbu_5days.json'\n",
    "settings_file = 'C:\\\\Users\\\\nsmetanin\\\\Desktop\\\\results\\\\vnd_spbu_5days.json'\n",
    "with open(settings_file, 'r') as f:\n",
    "    settings = loads(f.read())"
   ]
  },
  {
   "cell_type": "code",
   "execution_count": 19,
   "metadata": {},
   "outputs": [
    {
     "data": {
      "text/plain": [
       "'a6_d1_4states_03-27_20-43-52'"
      ]
     },
     "execution_count": 19,
     "metadata": {},
     "output_type": "execute_result"
    }
   ],
   "source": [
    "experiment = settings['subjects'][0][0]\n",
    "experiment"
   ]
  },
  {
   "cell_type": "code",
   "execution_count": 59,
   "metadata": {},
   "outputs": [
    {
     "name": "stdout",
     "output_type": "stream",
     "text": [
      "fs: 500\nall labels 32: ['Fp1', 'Fp2', 'F7', 'F3', 'Fz', 'F4', 'F8', 'Ft9', 'Fc5', 'Fc1', 'Fc2', 'Fc6', 'Ft10', 'T7', 'C3', 'Cz', 'C4', 'T8', 'Tp9', 'Cp5', 'Cp1', 'Cp2', 'Cp6', 'Tp10', 'P7', 'P3', 'Pz', 'P4', 'P8', 'O1', 'Oz', 'O2']\nselected channels 32: ['Fp1', 'Fp2', 'F7', 'F3', 'Fz', 'F4', 'F8', 'Ft9', 'Fc5', 'Fc1', 'Fc2', 'Fc6', 'Ft10', 'T7', 'C3', 'Cz', 'C4', 'T8', 'Tp9', 'Cp5', 'Cp1', 'Cp2', 'Cp6', 'Tp10', 'P7', 'P3', 'Pz', 'P4', 'P8', 'O1', 'Oz', 'O2']\nprotocol_names: ['Close', 'Open', 'Left', 'Right']\n"
     ]
    },
    {
     "ename": "KeyError",
     "evalue": "'Unable to open object (Component not found)'",
     "traceback": [
      "\u001b[0;31m---------------------------------------------------------------------------\u001b[0m",
      "\u001b[0;31mKeyError\u001b[0m                                  Traceback (most recent call last)",
      "\u001b[0;32m<ipython-input-59-8c1fbfa75649>\u001b[0m in \u001b[0;36m<module>\u001b[0;34m()\u001b[0m\n\u001b[1;32m     16\u001b[0m     \u001b[0mplt\u001b[0m\u001b[1;33m.\u001b[0m\u001b[0mshow\u001b[0m\u001b[1;33m(\u001b[0m\u001b[1;33m)\u001b[0m\u001b[1;33m\u001b[0m\u001b[0m\n\u001b[1;32m     17\u001b[0m \u001b[1;33m\u001b[0m\u001b[0m\n\u001b[0;32m---> 18\u001b[0;31m     \u001b[0mrejections\u001b[0m\u001b[1;33m,\u001b[0m \u001b[0mtop_alpha\u001b[0m\u001b[1;33m,\u001b[0m \u001b[0mtop_ica\u001b[0m \u001b[1;33m=\u001b[0m \u001b[0mload_rejections\u001b[0m\u001b[1;33m(\u001b[0m\u001b[0mf\u001b[0m\u001b[1;33m,\u001b[0m \u001b[0mreject_alpha\u001b[0m\u001b[1;33m=\u001b[0m\u001b[1;32mFalse\u001b[0m\u001b[1;33m)\u001b[0m\u001b[1;33m\u001b[0m\u001b[0m\n\u001b[0m\u001b[1;32m     19\u001b[0m \u001b[1;33m\u001b[0m\u001b[0m\n\u001b[1;32m     20\u001b[0m     \u001b[0mraw\u001b[0m \u001b[1;33m=\u001b[0m \u001b[0mOrderedDict\u001b[0m\u001b[1;33m(\u001b[0m\u001b[1;33m)\u001b[0m\u001b[1;33m\u001b[0m\u001b[0m\n",
      "\u001b[0;32mC:\\Users\\nsmetanin\\PycharmProjects\\nfb\\pynfb\\postprocessing\\utils\\__init__.py\u001b[0m in \u001b[0;36mload_rejections\u001b[0;34m(f, reject_alpha)\u001b[0m\n\u001b[1;32m     42\u001b[0m \u001b[1;33m\u001b[0m\u001b[0m\n\u001b[1;32m     43\u001b[0m \u001b[1;32mdef\u001b[0m \u001b[0mload_rejections\u001b[0m\u001b[1;33m(\u001b[0m\u001b[0mf\u001b[0m\u001b[1;33m,\u001b[0m \u001b[0mreject_alpha\u001b[0m\u001b[1;33m=\u001b[0m\u001b[1;32mTrue\u001b[0m\u001b[1;33m)\u001b[0m\u001b[1;33m:\u001b[0m\u001b[1;33m\u001b[0m\u001b[0m\n\u001b[0;32m---> 44\u001b[0;31m     \u001b[0mrejections\u001b[0m \u001b[1;33m=\u001b[0m \u001b[1;33m[\u001b[0m\u001b[0mf\u001b[0m\u001b[1;33m[\u001b[0m\u001b[1;34m'protocol1/signals_stats/left/rejections/rejection{}'\u001b[0m\u001b[1;33m.\u001b[0m\u001b[0mformat\u001b[0m\u001b[1;33m(\u001b[0m\u001b[0mj\u001b[0m \u001b[1;33m+\u001b[0m \u001b[1;36m1\u001b[0m\u001b[1;33m)\u001b[0m\u001b[1;33m]\u001b[0m\u001b[1;33m[\u001b[0m\u001b[1;33m:\u001b[0m\u001b[1;33m]\u001b[0m \u001b[1;32mfor\u001b[0m \u001b[0mj\u001b[0m \u001b[1;32min\u001b[0m \u001b[0mrange\u001b[0m\u001b[1;33m(\u001b[0m\u001b[1;36m2\u001b[0m\u001b[1;33m)\u001b[0m\u001b[1;33m]\u001b[0m\u001b[1;33m\u001b[0m\u001b[0m\n\u001b[0m\u001b[1;32m     45\u001b[0m     \u001b[0malpha\u001b[0m \u001b[1;33m=\u001b[0m \u001b[0mf\u001b[0m\u001b[1;33m[\u001b[0m\u001b[1;34m'protocol1/signals_stats/left/rejections/rejection2_topographies'\u001b[0m\u001b[1;33m]\u001b[0m\u001b[1;33m[\u001b[0m\u001b[1;33m:\u001b[0m\u001b[1;33m]\u001b[0m\u001b[1;33m\u001b[0m\u001b[0m\n\u001b[1;32m     46\u001b[0m     \u001b[0mica\u001b[0m \u001b[1;33m=\u001b[0m \u001b[0mf\u001b[0m\u001b[1;33m[\u001b[0m\u001b[1;34m'protocol1/signals_stats/left/rejections/rejection1_topographies'\u001b[0m\u001b[1;33m]\u001b[0m\u001b[1;33m[\u001b[0m\u001b[1;33m:\u001b[0m\u001b[1;33m]\u001b[0m\u001b[1;33m\u001b[0m\u001b[0m\n",
      "\u001b[0;32mC:\\Users\\nsmetanin\\PycharmProjects\\nfb\\pynfb\\postprocessing\\utils\\__init__.py\u001b[0m in \u001b[0;36m<listcomp>\u001b[0;34m(.0)\u001b[0m\n\u001b[1;32m     42\u001b[0m \u001b[1;33m\u001b[0m\u001b[0m\n\u001b[1;32m     43\u001b[0m \u001b[1;32mdef\u001b[0m \u001b[0mload_rejections\u001b[0m\u001b[1;33m(\u001b[0m\u001b[0mf\u001b[0m\u001b[1;33m,\u001b[0m \u001b[0mreject_alpha\u001b[0m\u001b[1;33m=\u001b[0m\u001b[1;32mTrue\u001b[0m\u001b[1;33m)\u001b[0m\u001b[1;33m:\u001b[0m\u001b[1;33m\u001b[0m\u001b[0m\n\u001b[0;32m---> 44\u001b[0;31m     \u001b[0mrejections\u001b[0m \u001b[1;33m=\u001b[0m \u001b[1;33m[\u001b[0m\u001b[0mf\u001b[0m\u001b[1;33m[\u001b[0m\u001b[1;34m'protocol1/signals_stats/left/rejections/rejection{}'\u001b[0m\u001b[1;33m.\u001b[0m\u001b[0mformat\u001b[0m\u001b[1;33m(\u001b[0m\u001b[0mj\u001b[0m \u001b[1;33m+\u001b[0m \u001b[1;36m1\u001b[0m\u001b[1;33m)\u001b[0m\u001b[1;33m]\u001b[0m\u001b[1;33m[\u001b[0m\u001b[1;33m:\u001b[0m\u001b[1;33m]\u001b[0m \u001b[1;32mfor\u001b[0m \u001b[0mj\u001b[0m \u001b[1;32min\u001b[0m \u001b[0mrange\u001b[0m\u001b[1;33m(\u001b[0m\u001b[1;36m2\u001b[0m\u001b[1;33m)\u001b[0m\u001b[1;33m]\u001b[0m\u001b[1;33m\u001b[0m\u001b[0m\n\u001b[0m\u001b[1;32m     45\u001b[0m     \u001b[0malpha\u001b[0m \u001b[1;33m=\u001b[0m \u001b[0mf\u001b[0m\u001b[1;33m[\u001b[0m\u001b[1;34m'protocol1/signals_stats/left/rejections/rejection2_topographies'\u001b[0m\u001b[1;33m]\u001b[0m\u001b[1;33m[\u001b[0m\u001b[1;33m:\u001b[0m\u001b[1;33m]\u001b[0m\u001b[1;33m\u001b[0m\u001b[0m\n\u001b[1;32m     46\u001b[0m     \u001b[0mica\u001b[0m \u001b[1;33m=\u001b[0m \u001b[0mf\u001b[0m\u001b[1;33m[\u001b[0m\u001b[1;34m'protocol1/signals_stats/left/rejections/rejection1_topographies'\u001b[0m\u001b[1;33m]\u001b[0m\u001b[1;33m[\u001b[0m\u001b[1;33m:\u001b[0m\u001b[1;33m]\u001b[0m\u001b[1;33m\u001b[0m\u001b[0m\n",
      "\u001b[0;32mh5py\\_objects.pyx\u001b[0m in \u001b[0;36mh5py._objects.with_phil.wrapper (D:\\Build\\h5py\\h5py-git\\h5py\\_objects.c:2703)\u001b[0;34m()\u001b[0m\n",
      "\u001b[0;32mh5py\\_objects.pyx\u001b[0m in \u001b[0;36mh5py._objects.with_phil.wrapper (D:\\Build\\h5py\\h5py-git\\h5py\\_objects.c:2661)\u001b[0;34m()\u001b[0m\n",
      "\u001b[0;32mC:\\Users\\nsmetanin\\Soft\\WinPython-64bit-3.5.2.3\\python-3.5.2.amd64\\lib\\site-packages\\h5py\\_hl\\group.py\u001b[0m in \u001b[0;36m__getitem__\u001b[0;34m(self, name)\u001b[0m\n\u001b[1;32m    167\u001b[0m                 \u001b[1;32mraise\u001b[0m \u001b[0mValueError\u001b[0m\u001b[1;33m(\u001b[0m\u001b[1;34m\"Invalid HDF5 object reference\"\u001b[0m\u001b[1;33m)\u001b[0m\u001b[1;33m\u001b[0m\u001b[0m\n\u001b[1;32m    168\u001b[0m         \u001b[1;32melse\u001b[0m\u001b[1;33m:\u001b[0m\u001b[1;33m\u001b[0m\u001b[0m\n\u001b[0;32m--> 169\u001b[0;31m             \u001b[0moid\u001b[0m \u001b[1;33m=\u001b[0m \u001b[0mh5o\u001b[0m\u001b[1;33m.\u001b[0m\u001b[0mopen\u001b[0m\u001b[1;33m(\u001b[0m\u001b[0mself\u001b[0m\u001b[1;33m.\u001b[0m\u001b[0mid\u001b[0m\u001b[1;33m,\u001b[0m \u001b[0mself\u001b[0m\u001b[1;33m.\u001b[0m\u001b[0m_e\u001b[0m\u001b[1;33m(\u001b[0m\u001b[0mname\u001b[0m\u001b[1;33m)\u001b[0m\u001b[1;33m,\u001b[0m \u001b[0mlapl\u001b[0m\u001b[1;33m=\u001b[0m\u001b[0mself\u001b[0m\u001b[1;33m.\u001b[0m\u001b[0m_lapl\u001b[0m\u001b[1;33m)\u001b[0m\u001b[1;33m\u001b[0m\u001b[0m\n\u001b[0m\u001b[1;32m    170\u001b[0m \u001b[1;33m\u001b[0m\u001b[0m\n\u001b[1;32m    171\u001b[0m         \u001b[0motype\u001b[0m \u001b[1;33m=\u001b[0m \u001b[0mh5i\u001b[0m\u001b[1;33m.\u001b[0m\u001b[0mget_type\u001b[0m\u001b[1;33m(\u001b[0m\u001b[0moid\u001b[0m\u001b[1;33m)\u001b[0m\u001b[1;33m\u001b[0m\u001b[0m\n",
      "\u001b[0;32mh5py\\_objects.pyx\u001b[0m in \u001b[0;36mh5py._objects.with_phil.wrapper (D:\\Build\\h5py\\h5py-git\\h5py\\_objects.c:2703)\u001b[0;34m()\u001b[0m\n",
      "\u001b[0;32mh5py\\_objects.pyx\u001b[0m in \u001b[0;36mh5py._objects.with_phil.wrapper (D:\\Build\\h5py\\h5py-git\\h5py\\_objects.c:2661)\u001b[0;34m()\u001b[0m\n",
      "\u001b[0;32mh5py\\h5o.pyx\u001b[0m in \u001b[0;36mh5py.h5o.open (D:\\Build\\h5py\\h5py-git\\h5py\\h5o.c:3589)\u001b[0;34m()\u001b[0m\n",
      "\u001b[0;31mKeyError\u001b[0m: 'Unable to open object (Component not found)'"
     ],
     "output_type": "error"
    }
   ],
   "source": [
    "from collections import OrderedDict\n",
    "\n",
    "from scipy.signal import welch\n",
    "\n",
    "from pynfb.postprocessing.utils import load_rejections, get_info, add_data, fft_filter, dc_blocker, get_colors\n",
    "\n",
    "with h5py.File('{}\\\\{}\\\\{}'.format(settings['dir'], experiment, 'experiment_data.h5')) as f:\n",
    "    fs, channels, p_names = get_info(f, settings['drop_channels'])\n",
    "    xx = np.concatenate([fft_filter(f['protocol{}/raw_data'.format(j + 1)][:], fs, (2, 48)) for j in [0,1,3]])\n",
    "    \n",
    "    plt.plot(*welch(f['protocol{}/raw_data'.format(1)][:, channels.index('C3')], fs, nperseg=1000))\n",
    "    plt.plot(*welch(f['protocol{}/raw_data'.format(2)][:, channels.index('C3')], fs, nperseg=1000))\n",
    "    plt.plot(*welch(f['protocol{}/raw_data'.format(3)][:, channels.index('C3')], fs, nperseg=1000))\n",
    "    plt.plot(*welch(f['protocol{}/raw_data'.format(4)][:, channels.index('C3')], fs, nperseg=1000))\n",
    "    plt.legend(['Close', 'Open', 'Left', 'Right'])\n",
    "    plt.show()\n",
    "\n",
    "    rejections, top_alpha, top_ica = load_rejections(f, reject_alpha=False)\n",
    "    \n",
    "    raw = OrderedDict()\n",
    "    for j, name in enumerate(p_names):\n",
    "        x = f['protocol{}/raw_data'.format(j + 1)][:]\n",
    "        #x = np.dot(x, rejections)\n",
    "        x = dc_blocker(x)\n",
    "        x = fft_filter(x, fs, (2, 48))\n",
    "        raw = add_data(raw, name, x, j)"
   ]
  },
  {
   "cell_type": "code",
   "execution_count": 38,
   "metadata": {},
   "outputs": [
    {
     "name": "stdout",
     "output_type": "stream",
     "text": [
      "1. Closed\n1. Opened\n2. Right\n2. Left\n3. Baseline\n"
     ]
    },
    {
     "name": "stdout",
     "output_type": "stream",
     "text": [
      "4. FB1\n5. Rest\n6. FB2\n7. Rest\n8. FB3\n9. Rest\n10. FB4\n"
     ]
    },
    {
     "name": "stdout",
     "output_type": "stream",
     "text": [
      "11. Rest\n12. FB5\n13. Rest\n14. Right\n14. Left\n"
     ]
    },
    {
     "name": "stdout",
     "output_type": "stream",
     "text": [
      "15. Baseline\n"
     ]
    }
   ],
   "source": [
    "cm = get_colors()\n",
    "t = 0\n",
    "ch_ind = channels.index('C3')\n",
    "for j_p, (name, x) in enumerate(raw.items()):\n",
    "    print(name)\n",
    "    time = np.arange(t, t + len(x)) / fs\n",
    "    color = cm[''.join([i for i in name.split()[1] if not i.isdigit()])]\n",
    "    xf = fft_filter(x[:, ch_ind], fs, band=(8, 14))\n",
    "    pow_ = 2\n",
    "    plt.plot(time, xf**pow_, c=color, alpha=0.8)\n",
    "    plt.plot(time, x[:, ch_ind]**pow_, linewidth=1, c=color, alpha=0.5)\n",
    "    plt.plot(time, time*0 + xf.std()**pow_, c=color, linewidth=5)\n",
    "    plt.plot(time, time*0 + np.percentile(xf**pow_, 90), '--', c=color, linewidth=5)\n",
    "    t += len(x)"
   ]
  },
  {
   "cell_type": "code",
   "execution_count": 34,
   "metadata": {},
   "outputs": [
    {
     "name": "stdout",
     "output_type": "stream",
     "text": [
      "CSP 3 using\nICA/CSP time elapsed = 0.08800888061523438s\n"
     ]
    },
    {
     "name": "stdout",
     "output_type": "stream",
     "text": [
      "Table drawing time elapsed = 11.6721670627594s\n"
     ]
    },
    {
     "ename": "ValueError",
     "evalue": "too many values to unpack (expected 3)",
     "traceback": [
      "\u001b[0;31m---------------------------------------------------------------------------\u001b[0m",
      "\u001b[0;31mValueError\u001b[0m                                Traceback (most recent call last)",
      "\u001b[0;32m<ipython-input-34-57835cc52efd>\u001b[0m in \u001b[0;36m<module>\u001b[0;34m()\u001b[0m\n\u001b[1;32m      8\u001b[0m \u001b[1;31m#xx = np.concatenate([raw['1. Closed'][len(raw['1. Opened'])//2:], raw['1. Opened'][len(raw['1. Opened'])//2:], raw['2. Right']])\u001b[0m\u001b[1;33m\u001b[0m\u001b[1;33m\u001b[0m\u001b[0m\n\u001b[1;32m      9\u001b[0m \u001b[1;33m\u001b[0m\u001b[0m\n\u001b[0;32m---> 10\u001b[0;31m \u001b[0mrejection\u001b[0m\u001b[1;33m,\u001b[0m \u001b[0mspatial\u001b[0m\u001b[1;33m,\u001b[0m \u001b[0munmixing\u001b[0m \u001b[1;33m=\u001b[0m \u001b[0mICADialog\u001b[0m\u001b[1;33m.\u001b[0m\u001b[0mget_rejection\u001b[0m\u001b[1;33m(\u001b[0m\u001b[0mxx\u001b[0m\u001b[1;33m,\u001b[0m \u001b[0mchannels\u001b[0m\u001b[1;33m,\u001b[0m \u001b[0mfs\u001b[0m\u001b[1;33m,\u001b[0m \u001b[0mmode\u001b[0m\u001b[1;33m=\u001b[0m\u001b[1;34m'csp'\u001b[0m\u001b[1;33m,\u001b[0m \u001b[0mstates\u001b[0m\u001b[1;33m=\u001b[0m\u001b[1;36m0.7\u001b[0m\u001b[1;33m)\u001b[0m\u001b[1;33m\u001b[0m\u001b[0m\n\u001b[0m",
      "\u001b[0;31mValueError\u001b[0m: too many values to unpack (expected 3)"
     ],
     "output_type": "error"
    }
   ],
   "source": [
    "from pynfb.protocols.ssd.topomap_selector_ica import ICADialog\n",
    "\n",
    "\n",
    "#xx = np.concatenate([raw['1. Closed'], raw['1. Opened'], raw['2. Right'], raw['2. Left'],  raw['14. Right'], raw['14. Left'], raw['3. Baseline']])\n",
    "\n",
    "#xx = np.concatenate([raw['1. Opened'][len(raw['1. Opened'])//2:], raw['2. Right']])\n",
    "#xx = np.concatenate([raw['1. Opened'], raw['2. Right'], raw['2. Left']])\n",
    "#xx = np.concatenate([raw['1. Closed'][len(raw['1. Opened'])//2:], raw['1. Opened'][len(raw['1. Opened'])//2:], raw['2. Right']])\n",
    "\n",
    "rejection, spatial, unmixing = ICADialog.get_rejection(xx, channels, fs, mode='csp', states=0.7)"
   ]
  },
  {
   "cell_type": "code",
   "execution_count": 32,
   "metadata": {},
   "outputs": [
    {
     "data": {
      "text/plain": [
       "500"
      ]
     },
     "execution_count": 32,
     "metadata": {},
     "output_type": "execute_result"
    }
   ],
   "source": [
    "fs"
   ]
  },
  {
   "cell_type": "code",
   "execution_count": null,
   "metadata": {},
   "outputs": [],
   "source": [
    ""
   ]
  }
 ],
 "metadata": {
  "kernelspec": {
   "display_name": "Python 2",
   "language": "python",
   "name": "python2"
  },
  "language_info": {
   "codemirror_mode": {
    "name": "ipython",
    "version": 2.0
   },
   "file_extension": ".py",
   "mimetype": "text/x-python",
   "name": "python",
   "nbconvert_exporter": "python",
   "pygments_lexer": "ipython2",
   "version": "2.7.6"
  }
 },
 "nbformat": 4,
 "nbformat_minor": 0
}